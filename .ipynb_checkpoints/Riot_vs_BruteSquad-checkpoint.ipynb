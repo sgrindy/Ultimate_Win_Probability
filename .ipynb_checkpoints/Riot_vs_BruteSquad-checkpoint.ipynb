{
 "cells": [
  {
   "cell_type": "code",
   "execution_count": 1,
   "metadata": {
    "collapsed": true
   },
   "outputs": [],
   "source": [
    "import numpy as np\n",
    "import matplotlib.pyplot as plt\n",
    "%matplotlib inline"
   ]
  },
  {
   "cell_type": "markdown",
   "metadata": {},
   "source": [
    "# Background and definitions\n",
    "An [absorbing Markov chain](https://en.wikipedia.org/wiki/Absorbing_Markov_chain) is a stochastic process where (as in conventional Markov chains) the transition probability from state to state only depends on the current state *and* there are some \"absorbing states,\" which terminate the chain. The states that are not absorbing states are called \"transient states.\"\n",
    "\n",
    "In ultimate, a state is defined by both the score and by which team received the pull to start the point (equivalently, which team scored last). The absorbing states are then the the scores which end the game, i.e. one team reaches 15 points. Using the formalism of absorbing Markov chains, we can calculate the probability that the final scores will be a certain value given the current scores and which team received the pull.\n",
    "\n",
    "Formally, the transition matrix $P$ is defined as:\n",
    "$$\n",
    "P = \n",
    "\\begin{bmatrix}\n",
    "    Q & R \\\\\n",
    "    0 & I_a\n",
    "\\end{bmatrix}\n",
    "$$\n",
    "$Q$ is a $t\\times t$ matrix with elements $q_{ij}$ defining the probability of ending in transient state $j$ if the current state is $i$. $t$ is the number of possible transient states.\n",
    "\n",
    "For example, let's say that Team A is playing Team B. The score is Team A 2 - 1 Team B, and Team B has just scored and is now pulling to Team A. This defines the *current* state $i$. There are two possible states $j$ after the next point: the score can be 3-1 with Team A pulling after its offensive hold, or the score can be 2-2 with Team B pulling after it scored a break. If Team A usually scores 70% of the time when it receives the pull, then $q_{ij} = 0.7$ for $j = $ 3-1 and Team A pulling, or $q_{ij} = 1-0.7=0.3$ for $j = $ 2-2 and Team B pulling. For this transient state $i$, all other $q_{ij}$ are zero since there are no other possible outcomes.\n",
    "\n",
    "$R$ is a $t\\times a$ matrix with elements $r_{ij}$ defining the probability of being in transient state $i$ and transitioning to absorbing state $j$. $a$ is the number of absorbing states. Following the example above, if Team A is receiving at 14-12, $r_{ij}$ for them to win the game 15-12 is 0.7.\n",
    "\n",
    "$0$ is an $a\\times t$ zero matrix, and $I_a$ is an $a\\times a$ identity matrix.\n",
    "\n",
    "We'll define $P_O$ as the probability that Team A scores on offense (while receiving the pull) and $P_D$ as the probability that Team A scores on defense (while pulling). Conversely, the probability that Team B scores on offense is $1-P_D$ and the probability they score on defense is $1-P_O$."
   ]
  },
  {
   "cell_type": "markdown",
   "metadata": {},
   "source": [
    "# Now, set up the math:\n",
    "\n",
    "Here, I'll denote the states by tuples of (scoreA,scoreB,receiving_Index), so $x,y,0$ indicates that Team A has $x$ points, Team B has $y$ points, and Team A is receiving the pull.\n",
    "\n",
    "We'll still denote that $P_O$ is the probability that Team A scores on offense, and $P_D$ the probability that Team A scores on defense.\n",
    "\n",
    "Below, the matrices $N$ and $B$ have the same definitions per the [Wiki on absorbing Markov chains](https://en.wikipedia.org/wiki/Absorbing_Markov_chain)."
   ]
  },
  {
   "cell_type": "code",
   "execution_count": 2,
   "metadata": {
    "collapsed": false,
    "scrolled": true
   },
   "outputs": [],
   "source": [
    "def get_P_Q_R(Po,Pd,maxScore=15):\n",
    "    # generation of Q: start w/ List with entries (scoreA, scoreB, receiving_index)\n",
    "    Qlist = []\n",
    "    Qdict = {}\n",
    "    for scoreA in range(0,maxScore):\n",
    "        for scoreB in range(0,maxScore):\n",
    "            Qlist.append((scoreA,scoreB,0))\n",
    "            Qlist.append((scoreA,scoreB,1))\n",
    "    Qlist.remove((0,1,1))\n",
    "    Qlist.remove((1,0,0))\n",
    "    Qlist.append((0,0,None))\n",
    "    for i in range(len(Qlist)):\n",
    "        Qdict[Qlist[i]] = i\n",
    "    Rlist = []\n",
    "    Rdict = {}\n",
    "    for score in range(0,maxScore):\n",
    "        Rlist.append((score,maxScore))\n",
    "        Rlist.append((maxScore,score))\n",
    "    for i in range(len(Rlist)):\n",
    "        Rdict[Rlist[i]] = i\n",
    "\n",
    "    Q = np.zeros((len(Qlist), len(Qlist)))\n",
    "    R = np.zeros((len(Qlist), len(Rlist)))\n",
    "    for scoreA,scoreB,receiving_index in Qlist:\n",
    "        i = Qdict[(scoreA,scoreB,receiving_index)]\n",
    "        for scoring_index in [0,1]:\n",
    "            if receiving_index is None:\n",
    "                j = Qdict[(0,0,0)]\n",
    "                Q[i,j] = 0.5\n",
    "                j = Qdict[(0,0,1)]\n",
    "                Q[i,j] = 0.5\n",
    "            elif scoreA == maxScore-1 and scoring_index == 0:\n",
    "                j = Rdict[(scoreA+1,scoreB)]\n",
    "                if receiving_index == 0:\n",
    "                    R[i,j] = Po\n",
    "                else: R[i,j] = Pd\n",
    "            elif scoreB == maxScore-1 and scoring_index == 1:\n",
    "                j = Rdict[(scoreA,scoreB+1)]\n",
    "                if receiving_index == 0:\n",
    "                    R[i,j] = 1-Po\n",
    "                else: R[i,j] = 1-Pd\n",
    "            else:\n",
    "                if scoring_index == 0:\n",
    "                    j = Qdict[(scoreA+1,scoreB,1)]\n",
    "                    if receiving_index == 0:\n",
    "                        Q[i,j] = Po\n",
    "                    else: Q[i,j] = Pd\n",
    "                if scoring_index == 1:\n",
    "                    j = Qdict[(scoreA,scoreB+1,0)]\n",
    "                    if receiving_index == 0:\n",
    "                        Q[i,j] = 1-Po\n",
    "                    else: Q[i,j] = 1-Pd\n",
    "    t,a = R.shape\n",
    "    firstRow = np.concatenate((Q,R), axis=1)\n",
    "    secondRow = np.concatenate((np.zeros((a,t)),np.eye(a)), axis=1)\n",
    "    P = np.concatenate((firstRow,secondRow), axis=0)\n",
    "    return P,Q,R,Qdict,Rdict"
   ]
  },
  {
   "cell_type": "markdown",
   "metadata": {},
   "source": [
    "Now, we can put in the actual probabilities from Riot vs Brute Squad games from the rest of the season. The entries indicate how successful Riot was at scoring split by whether they started the point on offense or on defense. (I couldn't find point-by-point information from the Pro-Elite Challenge).\n",
    "\n",
    "| Tournament        | Riot Offense | Riot Defense |\n",
    "|-------------------|--------------|--------------|\n",
    "| US Open           | 7/13         | 0/8          |\n",
    "| Pro Flight Finale | 8/13         | 5/12         |\n",
    "| Nationals         | 8/12         | 3/11         |\n",
    "| Total             | 23/38        | 8/31         |\n",
    "\n",
    "Below, I'll use only the estimates from Pro Flight Finale for the parameters $P_o$ and $P_d$. "
   ]
  },
  {
   "cell_type": "code",
   "execution_count": 9,
   "metadata": {
    "collapsed": false
   },
   "outputs": [],
   "source": [
    "Po = 8/13; Pd = 5/12\n",
    "P,Q,R,Qdict,Rdict = get_P_Q_R(Po,Pd,maxScore=15)\n",
    "t,a = R.shape\n",
    "N = np.linalg.inv(np.eye(t)-Q)\n",
    "B = np.dot(N,R)"
   ]
  },
  {
   "cell_type": "code",
   "execution_count": 12,
   "metadata": {
    "collapsed": false
   },
   "outputs": [
    {
     "name": "stderr",
     "output_type": "stream",
     "text": [
      "C:\\Program Files\\WinPython-64bit-3.5.2.2Qt5\\python-3.5.2.amd64\\lib\\site-packages\\matplotlib\\figure.py:1742: UserWarning: This figure includes Axes that are not compatible with tight_layout, so its results might be incorrect.\n",
      "  warnings.warn(\"This figure includes Axes that are not \"\n"
     ]
    },
    {
     "data": {
      "image/png": "[encoded data removed]",
      "text/plain": [
       "<matplotlib.figure.Figure at 0x1c219fe9fd0>"
      ]
     },
     "metadata": {},
     "output_type": "display_data"
    }
   ],
   "source": [
    "fig,ax = plt.subplots()\n",
    "values = B[Qdict[(0,0,None)]]\n",
    "labels,indexes = zip( *sorted(zip(Rdict.keys(),Rdict.values()), \n",
    "                              key=lambda x:x[0][1]-x[0][0]) )\n",
    "plot_values = []\n",
    "for lbl,ind in zip(labels,indexes):\n",
    "    plot_values.append(values[ind])\n",
    "bar = ax.bar(np.arange(a),plot_values)\n",
    "ax.set_xticks(np.arange(a) + 0.4)\n",
    "for b in bar.get_children():\n",
    "    if b.get_x() < 15:\n",
    "        b.set_facecolor('r')\n",
    "    else:\n",
    "        b.set_facecolor('k')\n",
    "ax.set_xticklabels(labels,rotation=90)\n",
    "\n",
    "plt.text(21,0.05,'Brute Squad\\nwins',color='k', fontsize=12)\n",
    "plt.text(4,0.05, 'Riot wins', color='r', fontsize=12)\n",
    "\n",
    "plt.xlabel('Final Score')\n",
    "plt.ylabel('Probability')\n",
    "fig.set_tight_layout(True)\n",
    "fig.savefig('Riot_vs_BS_beforeGame_PFFonly.png',dpi=600)"
   ]
  },
  {
   "cell_type": "code",
   "execution_count": 13,
   "metadata": {
    "collapsed": false
   },
   "outputs": [
    {
     "name": "stdout",
     "output_type": "stream",
     "text": [
      "[ 0.57046709]\n",
      "0.515387724091\n"
     ]
    }
   ],
   "source": [
    "RiotWins = np.concatenate([np.ones((15,1)),np.zeros((15,1))], axis=0)\n",
    "print(np.dot(plot_values, RiotWins))\n",
    "\n",
    "scoreFraction = np.array([x[0]/(sum(x)) for x in labels])\n",
    "print(np.dot(plot_values,scoreFraction))\n"
   ]
  },
  {
   "cell_type": "markdown",
   "metadata": {},
   "source": [
    "# Now, actually construct win Prob vs points:\n",
    "States are identified by (RiotScore,BruteScore,receivingIndex,note) tuples. There's a few extra wrenches in here due to accounting for halftime and capped games (i.e. after the score is 10-8, the game is now to 12 instead of 15)."
   ]
  },
  {
   "cell_type": "code",
   "execution_count": 55,
   "metadata": {
    "collapsed": false
   },
   "outputs": [],
   "source": [
    "firstHalfStates = [\n",
    "    (0,0,None,'Start of game'),\n",
    "    (0,0,1,'Brute Squad starts on Offense'),\n",
    "    (0,1,0,'Brute Squad scores on Offense'),\n",
    "    (1,1,1,'Riot scores on Offense'),\n",
    "    (1,2,0,'Brute Squad scores on Offense'),\n",
    "    (2,2,1,'Riot scores on Offense'),\n",
    "    (2,3,0,'Brute Squad scores on Offense'),\n",
    "    (3,3,1,'Riot scores on Offense'),\n",
    "    (3,4,0,'Brute Squad scores on Offense'),\n",
    "    (4,4,1,'Riot scores on Offense'),\n",
    "    (4,5,0,'Brute Squad scores on Offense'),\n",
    "    (5,5,1,'Riot scores on Offense'),\n",
    "    (6,5,1,'Riot breaks'),\n",
    "    (6,6,0,'Brute Squad scores on Offense'),\n",
    "    (6,7,0,'Brute Squad breaks'),\n",
    "    (7,7,1,'Riot scores on Offense')\n",
    "]\n",
    "secondHalfStates = [\n",
    "    (8,7,0,'Riot breaks for half'),\n",
    "    (8,8,0,'Brute Squad breaks out of half'),\n",
    "    (9,8,1,'Riot scores on Offense'),\n",
    "    (10,8,1,'Riot breaks'),\n",
    "]\n",
    "capStates = [\n",
    "    (10,8,1,'Soft cap on, game to 12'),\n",
    "    (10,9,0,'Brute Squad scores on Offense'),\n",
    "    (10,10,0,'Brute Squad breaks'),\n",
    "    (10,11,0, 'Brute Squad breaks'),\n",
    "    (11,11,1,'Riot scores on offense'),\n",
    "]\n",
    "finalState = [(11,12,0,'Brute Squad scores to win'),]\n",
    "allStates = firstHalfStates + secondHalfStates + capStates + finalState\n",
    "Nstates = len(allStates)"
   ]
  },
  {
   "cell_type": "markdown",
   "metadata": {},
   "source": [
    "Up until now, I've ignored the effect halftime has on the game - the team receiving to start the second half is always the team that pulled to start the game. This requires computing the probabilities that each team wins a game to 8, then chaining those with the probabilites for a game to 15 using the 2nd half pull as the starting transient state.\n",
    "\n",
    "In addition, this game (originally to 15) was capped at 12, which throws another wrinkle into the win probability calculation. This requires calculating the probabilities for a game to 12."
   ]
  },
  {
   "cell_type": "code",
   "execution_count": 56,
   "metadata": {
    "collapsed": false
   },
   "outputs": [],
   "source": [
    "Po = 8/13; Pd = 5/12 #use PFF to estimate\n",
    "P15,Q15,R15,Q15dict,R15dict = get_P_Q_R(Po,Pd,maxScore=15)\n",
    "t15,a15 = R15.shape\n",
    "N15 = np.linalg.inv(np.eye(t15)-Q15)\n",
    "B15 = np.dot(N15,R15)\n",
    "\n",
    "P12,Q12,R12,Q12dict,R12dict = get_P_Q_R(Po,Pd,maxScore=12)\n",
    "t12,a12 = R12.shape\n",
    "N12 = np.linalg.inv(np.eye(t12)-Q12)\n",
    "B12 = np.dot(N12,R12)\n",
    "\n",
    "P8,Q8,R8,Q8dict,R8dict = get_P_Q_R(Po,Pd,maxScore=8)\n",
    "t8,a8 = R8.shape\n",
    "N8 = np.linalg.inv(np.eye(t8)-Q8)\n",
    "B8 = np.dot(N8,R8)"
   ]
  },
  {
   "cell_type": "code",
   "execution_count": 57,
   "metadata": {
    "collapsed": true
   },
   "outputs": [],
   "source": [
    "def calculatePWinFirstHalf(state):\n",
    "    scoreA,scoreB,receivingIndex,note = state\n",
    "    secondHalfReceivingIndex = 0\n",
    "    # need to use B8 to get p(halftime absorbing states), then\n",
    "    # use B15 to get final probabilities\n",
    "    halfProbs = B8[Q8dict[(scoreA,scoreB,receivingIndex)], :]\n",
    "    pWin = 0.0\n",
    "    \n",
    "    teamAWin = np.zeros(a15)\n",
    "    for state15,idx15 in R15dict.items():\n",
    "        if state15[0]-state15[1] > 0:\n",
    "            val = 1.\n",
    "        else:\n",
    "            val = 0.\n",
    "        teamAWin[idx15] = val\n",
    "    \n",
    "    for halfState,halfState_idx in R8dict.items():\n",
    "        half2StartState = halfState + (secondHalfReceivingIndex,)\n",
    "        half2Probs = B15[Q15dict[half2StartState],:]\n",
    "        half2WinProbs = np.dot(teamAWin, half2Probs)\n",
    "        pWin += halfProbs[halfState_idx] * half2WinProbs\n",
    "    return pWin"
   ]
  },
  {
   "cell_type": "code",
   "execution_count": 58,
   "metadata": {
    "collapsed": true
   },
   "outputs": [],
   "source": [
    "def calculatePWinSecondHalf(state):\n",
    "    scoreA,scoreB,receivingIndex,note = state\n",
    "    # use B15 to get final probabilities\n",
    "    pWin = 0.0\n",
    "    Probs = B15[Q15dict[(scoreA,scoreB,receivingIndex)],:]\n",
    "    \n",
    "    teamAWin = np.zeros(a15)\n",
    "    for state15,idx15 in R15dict.items():\n",
    "        if state15[0]-state15[1] > 0:\n",
    "            val = 1.\n",
    "        else:\n",
    "            val = 0.\n",
    "        teamAWin[idx15] = val\n",
    "    \n",
    "    pWin = np.dot(teamAWin, Probs)\n",
    "\n",
    "    return pWin"
   ]
  },
  {
   "cell_type": "code",
   "execution_count": 59,
   "metadata": {
    "collapsed": true
   },
   "outputs": [],
   "source": [
    "def calculatePWinCap(state):\n",
    "    scoreA,scoreB,receivingIndex,note = state\n",
    "    # use B12 to get probabilities in capped game\n",
    "    pWin = 0.0\n",
    "    Probs = B12[Q12dict[(scoreA,scoreB,receivingIndex)],:]\n",
    "    \n",
    "    teamAWin = np.zeros(a12)\n",
    "    for state12,idx12 in R12dict.items():\n",
    "        if state12[0]-state12[1] > 0:\n",
    "            val = 1.\n",
    "        else:\n",
    "            val = 0.\n",
    "        teamAWin[idx12] = val\n",
    "    \n",
    "    pWin = np.dot(teamAWin, Probs)\n",
    "\n",
    "    return pWin"
   ]
  },
  {
   "cell_type": "code",
   "execution_count": 61,
   "metadata": {
    "collapsed": false
   },
   "outputs": [],
   "source": [
    "pRiotWin = []\n",
    "pRiotTakesHalf = np.zeros((len(firstHalfStates)))\n",
    "for state in firstHalfStates:\n",
    "    pRiotWin.append(calculatePWinFirstHalf(state))\n",
    "for state in secondHalfStates:\n",
    "    pRiotWin.append(calculatePWinSecondHalf(state))\n",
    "for state in capStates:\n",
    "    pRiotWin.append(calculatePWinCap(state))\n",
    "pRiotWin.append(0.0)"
   ]
  },
  {
   "cell_type": "code",
   "execution_count": 102,
   "metadata": {
    "collapsed": false,
    "scrolled": false
   },
   "outputs": [
    {
     "name": "stderr",
     "output_type": "stream",
     "text": [
      "C:\\Program Files\\WinPython-64bit-3.5.2.2Qt5\\python-3.5.2.amd64\\lib\\site-packages\\matplotlib\\figure.py:1742: UserWarning: This figure includes Axes that are not compatible with tight_layout, so its results might be incorrect.\n",
      "  warnings.warn(\"This figure includes Axes that are not \"\n"
     ]
    },
    {
     "data": {
      "image/png": "[encoded data removed]",
      "text/plain": [
       "<matplotlib.figure.Figure at 0x1c21ee13f60>"
      ]
     },
     "metadata": {},
     "output_type": "display_data"
    }
   ],
   "source": [
    "plt.rc('font',size=14)\n",
    "fig,ax = plt.subplots()\n",
    "\n",
    "ax.set_xlim(left=0,right=25)\n",
    "ax.set_xticks([0,25])\n",
    "ax.set_xticklabels(['Start','End'])\n",
    "\n",
    "ax.set_ylim(bottom=0,top=1)\n",
    "ax.set_yticks([0, 0.25, 0.5, 0.75, 1.0])\n",
    "ax.set_yticklabels(['Brute Squad', '', 0.5, '', 'Riot'])\n",
    "\n",
    "hl, = ax.plot(0, pRiotWin[0],'o-')\n",
    "text = '%0.2f' % pRiotWin[0]\n",
    "ht = ax.text(0, pRiotWin[0], text)\n",
    "\n",
    "for i in range(Nstates):\n",
    "    scoreA,scoreB,recIndex,note = allStates[i]\n",
    "    plt.title(note + ', ' + str(scoreA) + '-' + str(scoreB))\n",
    "    hl.set_xdata(np.arange(0,i+1))\n",
    "    hl.set_ydata(pRiotWin[0:i+1])\n",
    "    \n",
    "    text = '%0.2f' % pRiotWin[i]\n",
    "    ht.set_text(text)\n",
    "    ht.set_x(i)\n",
    "    ht.set_y(pRiotWin[i])\n",
    "    fileName = str(i) + '.png'\n",
    "    fig.set_tight_layout(True)\n",
    "    fig.savefig(fileName,dpi=600)"
   ]
  }
 ],
 "metadata": {
  "kernelspec": {
   "display_name": "Python 3",
   "language": "python",
   "name": "python3"
  },
  "language_info": {
   "codemirror_mode": {
    "name": "ipython",
    "version": 3
   },
   "file_extension": ".py",
   "mimetype": "text/x-python",
   "name": "python",
   "nbconvert_exporter": "python",
   "pygments_lexer": "ipython3",
   "version": "3.5.2"
  }
 },
 "nbformat": 4,
 "nbformat_minor": 1
}
